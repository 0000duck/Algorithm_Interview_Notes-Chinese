{
 "cells": [
  {
   "cell_type": "code",
   "execution_count": 1,
   "metadata": {},
   "outputs": [
    {
     "name": "stderr",
     "output_type": "stream",
     "text": [
      "D:\\program\\work\\Python\\Anaconda3\\envs\\tf\\lib\\site-packages\\h5py\\__init__.py:36: FutureWarning: Conversion of the second argument of issubdtype from `float` to `np.floating` is deprecated. In future, it will be treated as `np.float64 == np.dtype(float).type`.\n",
      "  from ._conv import register_converters as _register_converters\n"
     ]
    },
    {
     "name": "stdout",
     "output_type": "stream",
     "text": [
      "1\n"
     ]
    }
   ],
   "source": [
    "import numpy as np\n",
    "import tensorflow as tf\n",
    "from src.utils import get_wb, foo\n",
    "from src.utils import print_params_dict, print_params_number\n",
    "\n",
    "from src.layers import dense, multi_dense, linear_dense, Dense\n",
    "from src.layers import highway_dense, multi_highway_dense\n",
    "from src.layers import conv2d\n",
    "from src.layers import highway_conv2d, multi_highway_conv2d\n",
    "\n",
    "foo()"
   ]
  },
  {
   "cell_type": "markdown",
   "metadata": {},
   "source": [
    "## get_wb"
   ]
  },
  {
   "cell_type": "code",
   "execution_count": 26,
   "metadata": {},
   "outputs": [
    {
     "name": "stdout",
     "output_type": "stream",
     "text": [
      "(8, 16)\n",
      "[-1. -1. -1. -1. -1. -1. -1. -1. -1. -1. -1. -1. -1. -1. -1. -1.]\n",
      "W:0 \t{'number': 32, 'shape': [2, 16]}\n",
      "b:0 \t{'number': 16, 'shape': [16]}\n"
     ]
    }
   ],
   "source": [
    "# get_wb\n",
    "tf.reset_default_graph()\n",
    "\n",
    "# Input shape: [8, 2]\n",
    "x = tf.constant(np.arange(16, dtype=np.float32).reshape([8,2]))\n",
    "# Output shape: [8, 16]\n",
    "w, b = get_wb([2, 16], b_initializer=tf.initializers.constant(-1.0))\n",
    "\n",
    "with tf.Session() as sess:\n",
    "    tf.global_variables_initializer().run()\n",
    "    o_val = tf.matmul(x, w) + b\n",
    "    b_val = tf.identity(b).eval()\n",
    "    \n",
    "print(o_val.shape)\n",
    "print(b_val)\n",
    "print_params_dict()"
   ]
  },
  {
   "cell_type": "markdown",
   "metadata": {},
   "source": [
    "## Dense"
   ]
  },
  {
   "cell_type": "code",
   "execution_count": 27,
   "metadata": {},
   "outputs": [
    {
     "name": "stdout",
     "output_type": "stream",
     "text": [
      "(8, 16)\n",
      "D/W:0 \t{'number': 32, 'shape': [2, 16]}\n",
      "D/b:0 \t{'number': 16, 'shape': [16]}\n"
     ]
    }
   ],
   "source": [
    "# Dense\n",
    "tf.reset_default_graph()\n",
    "\n",
    "# Input shape: [8, 2]\n",
    "x = tf.constant(np.arange(16, dtype=np.float32).reshape([8,2]))\n",
    "# Output shape: [8, 16]\n",
    "o = dense(x, 16, name=\"D\")\n",
    "\n",
    "with tf.Session() as sess:\n",
    "    tf.global_variables_initializer().run()\n",
    "    o_val = o.eval()\n",
    "    \n",
    "print(o_val.shape)\n",
    "print_params_dict()"
   ]
  },
  {
   "cell_type": "markdown",
   "metadata": {},
   "source": [
    "## Dense reuse"
   ]
  },
  {
   "cell_type": "code",
   "execution_count": 28,
   "metadata": {},
   "outputs": [
    {
     "name": "stdout",
     "output_type": "stream",
     "text": [
      "True\n",
      "D/W:0 \t{'number': 32, 'shape': [2, 16]}\n",
      "D/b:0 \t{'number': 16, 'shape': [16]}\n"
     ]
    }
   ],
   "source": [
    "# Dense reuse\n",
    "tf.reset_default_graph()\n",
    "\n",
    "# Input shape: [8, 2]\n",
    "x = tf.constant(np.arange(16, dtype=np.float32).reshape([8,2]))\n",
    "# Output shape: [8, 16]\n",
    "o = dense(x, 16, name=\"D\")\n",
    "o2 = dense(x, 16, name=\"D\", reuse=True)\n",
    "\n",
    "with tf.Session() as sess:\n",
    "    tf.global_variables_initializer().run()\n",
    "    o_val = o.eval()\n",
    "    o2_val = o2.eval()\n",
    "    \n",
    "print((o_val == o2_val).all())\n",
    "print_params_dict()"
   ]
  },
  {
   "cell_type": "markdown",
   "metadata": {},
   "source": [
    "## Dense class"
   ]
  },
  {
   "cell_type": "code",
   "execution_count": 29,
   "metadata": {},
   "outputs": [
    {
     "name": "stdout",
     "output_type": "stream",
     "text": [
      "True\n",
      "DD/W:0 \t{'number': 32, 'shape': [2, 16]}\n",
      "DD/b:0 \t{'number': 16, 'shape': [16]}\n"
     ]
    }
   ],
   "source": [
    "# Dense class\n",
    "tf.reset_default_graph()\n",
    "\n",
    "# Input shape: [8, 2]\n",
    "x = tf.constant(np.arange(16, dtype=np.float32).reshape([8,2]))\n",
    "# Output shape: [8, 16]\n",
    "dense_reuse = Dense(16, name=\"DD\")\n",
    "o = dense_reuse(x)\n",
    "o2 = dense_reuse(x)\n",
    "\n",
    "with tf.Session() as sess:\n",
    "    tf.global_variables_initializer().run()\n",
    "    o_val = o.eval()\n",
    "    o2_val = o2.eval()\n",
    "    \n",
    "print((o_val == o2_val).all())\n",
    "print_params_dict()"
   ]
  },
  {
   "cell_type": "markdown",
   "metadata": {},
   "source": [
    "## Multi Dense"
   ]
  },
  {
   "cell_type": "code",
   "execution_count": 30,
   "metadata": {},
   "outputs": [
    {
     "name": "stdout",
     "output_type": "stream",
     "text": [
      "(8, 5)\n",
      "D-0/W:0 \t{'number': 6, 'shape': [2, 3]}\n",
      "D-0/b:0 \t{'number': 3, 'shape': [3]}\n",
      "D-1/W:0 \t{'number': 12, 'shape': [3, 4]}\n",
      "D-1/b:0 \t{'number': 4, 'shape': [4]}\n",
      "D-2/W:0 \t{'number': 20, 'shape': [4, 5]}\n",
      "D-2/b:0 \t{'number': 5, 'shape': [5]}\n"
     ]
    }
   ],
   "source": [
    "# Multi Dense\n",
    "tf.reset_default_graph()\n",
    "\n",
    "# Input shape: [8, 2]\n",
    "x = tf.constant(np.arange(16, dtype=np.float32).reshape([8,2]))\n",
    "# Output shape: [8, 5]\n",
    "o = multi_dense(x, [3, 4, 5], name=\"D\")\n",
    "\n",
    "with tf.Session() as sess:\n",
    "    tf.global_variables_initializer().run()\n",
    "    o_val = o.eval()\n",
    "    \n",
    "print(o_val.shape)\n",
    "print_params_dict()"
   ]
  },
  {
   "cell_type": "markdown",
   "metadata": {},
   "source": [
    "## Highway Dense"
   ]
  },
  {
   "cell_type": "code",
   "execution_count": 31,
   "metadata": {},
   "outputs": [
    {
     "name": "stdout",
     "output_type": "stream",
     "text": [
      "(8, 2)\n",
      "H/W:0 \t{'number': 4, 'shape': [2, 2]}\n",
      "H/b:0 \t{'number': 2, 'shape': [2]}\n",
      "H/transform/W:0 \t{'number': 4, 'shape': [2, 2]}\n",
      "H/transform/b:0 \t{'number': 2, 'shape': [2]}\n"
     ]
    }
   ],
   "source": [
    "# Highway Dense\n",
    "tf.reset_default_graph()\n",
    "\n",
    "# Input shape: [8, 2]\n",
    "x = tf.constant(np.arange(16, dtype=np.float32).reshape([8,2]))\n",
    "# Output shape: [8, 2]\n",
    "o = highway_dense(x, name=\"H\")\n",
    "\n",
    "with tf.Session() as sess:\n",
    "    tf.global_variables_initializer().run()\n",
    "    o_val = o.eval()\n",
    "    \n",
    "print(o_val.shape)\n",
    "print_params_dict()"
   ]
  },
  {
   "cell_type": "markdown",
   "metadata": {},
   "source": [
    "## Multi Highway Dense"
   ]
  },
  {
   "cell_type": "code",
   "execution_count": 32,
   "metadata": {},
   "outputs": [
    {
     "name": "stdout",
     "output_type": "stream",
     "text": [
      "(8, 2)\n",
      "H1-0/W:0 \t{'number': 4, 'shape': [2, 2]}\n",
      "H1-0/b:0 \t{'number': 2, 'shape': [2]}\n",
      "H1-0/transform/W:0 \t{'number': 4, 'shape': [2, 2]}\n",
      "H1-0/transform/b:0 \t{'number': 2, 'shape': [2]}\n",
      "H1-1/W:0 \t{'number': 4, 'shape': [2, 2]}\n",
      "H1-1/b:0 \t{'number': 2, 'shape': [2]}\n",
      "H1-1/transform/W:0 \t{'number': 4, 'shape': [2, 2]}\n",
      "H1-1/transform/b:0 \t{'number': 2, 'shape': [2]}\n",
      "H1-2/W:0 \t{'number': 4, 'shape': [2, 2]}\n",
      "H1-2/b:0 \t{'number': 2, 'shape': [2]}\n",
      "H1-2/transform/W:0 \t{'number': 4, 'shape': [2, 2]}\n",
      "H1-2/transform/b:0 \t{'number': 2, 'shape': [2]}\n"
     ]
    }
   ],
   "source": [
    "# Multi Highway Dense\n",
    "tf.reset_default_graph()\n",
    "\n",
    "# Input shape: [8, 2]\n",
    "x = tf.constant(np.arange(16, dtype=np.float32).reshape([8,2]))\n",
    "# Output shape: [8, 2]\n",
    "o = multi_highway_dense(x, 3, name=\"H1\")\n",
    "\n",
    "with tf.Session() as sess:\n",
    "    tf.global_variables_initializer().run()\n",
    "    o_val = o.eval()\n",
    "    \n",
    "print(o_val.shape)\n",
    "print_params_dict()"
   ]
  },
  {
   "cell_type": "markdown",
   "metadata": {},
   "source": [
    "## Conv2d"
   ]
  },
  {
   "cell_type": "code",
   "execution_count": 33,
   "metadata": {},
   "outputs": [
    {
     "name": "stdout",
     "output_type": "stream",
     "text": [
      "(4, 20, 20, 16)\n",
      "conv2d/W:0 \t{'number': 144, 'shape': [3, 3, 1, 16]}\n",
      "conv2d/b:0 \t{'number': 16, 'shape': [16]}\n"
     ]
    }
   ],
   "source": [
    "# Conv2d\n",
    "tf.reset_default_graph()\n",
    "\n",
    "# Input shape: [4, 20, 20, 1]\n",
    "x = tf.constant(np.arange(1600, dtype=np.float32).reshape([4, 20, 20, 1]))\n",
    "# Output shape: [4, 20, 20, 16]\n",
    "o = conv2d(x, 3, 16)\n",
    "\n",
    "with tf.Session() as sess:\n",
    "    tf.global_variables_initializer().run()\n",
    "    o_val = o.eval()\n",
    "    \n",
    "print(o_val.shape)\n",
    "print_params_dict()"
   ]
  },
  {
   "cell_type": "markdown",
   "metadata": {},
   "source": [
    "## Highway Conv2d"
   ]
  },
  {
   "cell_type": "code",
   "execution_count": 34,
   "metadata": {},
   "outputs": [
    {
     "name": "stdout",
     "output_type": "stream",
     "text": [
      "(4, 20, 20, 1)\n",
      "highway_conv2d/W:0 \t{'number': 9, 'shape': [3, 3, 1, 1]}\n",
      "highway_conv2d/b:0 \t{'number': 1, 'shape': [1]}\n",
      "highway_conv2d/transform/W:0 \t{'number': 9, 'shape': [3, 3, 1, 1]}\n",
      "highway_conv2d/transform/b:0 \t{'number': 1, 'shape': [1]}\n"
     ]
    }
   ],
   "source": [
    "# Highway Conv2d\n",
    "tf.reset_default_graph()\n",
    "\n",
    "# Input shape: [4, 20, 20, 1]\n",
    "x = tf.constant(np.arange(1600, dtype=np.float32).reshape([4, 20, 20, 1]))\n",
    "# Output shape: [4, 20, 20, 16]\n",
    "o = highway_conv2d(x, 3, 16)\n",
    "\n",
    "with tf.Session() as sess:\n",
    "    tf.global_variables_initializer().run()\n",
    "    o_val = o.eval()\n",
    "    \n",
    "print(o_val.shape)\n",
    "print_params_dict()"
   ]
  },
  {
   "cell_type": "markdown",
   "metadata": {},
   "source": [
    "## Multi Highway Conv2d"
   ]
  },
  {
   "cell_type": "code",
   "execution_count": 35,
   "metadata": {},
   "outputs": [
    {
     "name": "stdout",
     "output_type": "stream",
     "text": [
      "(4, 20, 20, 1)\n",
      "HCnn1/W:0 \t{'number': 9, 'shape': [3, 3, 1, 1]}\n",
      "HCnn1/b:0 \t{'number': 1, 'shape': [1]}\n",
      "HCnn1/transform/W:0 \t{'number': 9, 'shape': [3, 3, 1, 1]}\n",
      "HCnn1/transform/b:0 \t{'number': 1, 'shape': [1]}\n",
      "HCnn2/W:0 \t{'number': 16, 'shape': [4, 4, 1, 1]}\n",
      "HCnn2/b:0 \t{'number': 1, 'shape': [1]}\n",
      "HCnn2/transform/W:0 \t{'number': 16, 'shape': [4, 4, 1, 1]}\n",
      "HCnn2/transform/b:0 \t{'number': 1, 'shape': [1]}\n",
      "HCnn3/W:0 \t{'number': 25, 'shape': [5, 5, 1, 1]}\n",
      "HCnn3/b:0 \t{'number': 1, 'shape': [1]}\n",
      "HCnn3/transform/W:0 \t{'number': 25, 'shape': [5, 5, 1, 1]}\n",
      "HCnn3/transform/b:0 \t{'number': 1, 'shape': [1]}\n",
      "106\n"
     ]
    }
   ],
   "source": [
    "# Multi Highway Conv2d\n",
    "tf.reset_default_graph()\n",
    "\n",
    "# Input shape: [4, 20, 20, 1]\n",
    "x = tf.constant(np.arange(1600, dtype=np.float32).reshape([-1, 20, 20, 1]))\n",
    "# Output shape: [4, 20, 20, 1]\n",
    "x = highway_conv2d(x, 3, name=\"HCnn1\")\n",
    "x = highway_conv2d(x, 4, name=\"HCnn2\")\n",
    "o = highway_conv2d(x, 5, name=\"HCnn3\")\n",
    "\n",
    "with tf.Session() as sess:\n",
    "    tf.global_variables_initializer().run()\n",
    "    o_val = o.eval()\n",
    "    \n",
    "print(o_val.shape)\n",
    "print_params_dict()\n",
    "print_params_number()"
   ]
  },
  {
   "cell_type": "markdown",
   "metadata": {},
   "source": [
    "## Multi Highway Conv2d function"
   ]
  },
  {
   "cell_type": "code",
   "execution_count": 4,
   "metadata": {},
   "outputs": [
    {
     "ename": "AssertionError",
     "evalue": "",
     "output_type": "error",
     "traceback": [
      "\u001b[1;31m---------------------------------------------------------------------------\u001b[0m",
      "\u001b[1;31mAssertionError\u001b[0m                            Traceback (most recent call last)",
      "\u001b[1;32m<ipython-input-4-bd7744ef343a>\u001b[0m in \u001b[0;36m<module>\u001b[1;34m()\u001b[0m\n\u001b[0;32m      6\u001b[0m \u001b[1;31m# Output shape: [4, 20, 20, 1]\u001b[0m\u001b[1;33m\u001b[0m\u001b[1;33m\u001b[0m\u001b[0m\n\u001b[0;32m      7\u001b[0m \u001b[0mo\u001b[0m \u001b[1;33m=\u001b[0m \u001b[0mmulti_highway_conv2d\u001b[0m\u001b[1;33m(\u001b[0m\u001b[0mx\u001b[0m\u001b[1;33m,\u001b[0m \u001b[1;36m3\u001b[0m\u001b[1;33m,\u001b[0m \u001b[1;36m2\u001b[0m\u001b[1;33m)\u001b[0m\u001b[1;33m\u001b[0m\u001b[0m\n\u001b[1;32m----> 8\u001b[1;33m \u001b[0mo2\u001b[0m \u001b[1;33m=\u001b[0m \u001b[0mmulti_highway_conv2d\u001b[0m\u001b[1;33m(\u001b[0m\u001b[0mx\u001b[0m\u001b[1;33m,\u001b[0m \u001b[1;33m[\u001b[0m\u001b[1;36m3\u001b[0m\u001b[1;33m,\u001b[0m\u001b[1;36m4\u001b[0m\u001b[1;33m,\u001b[0m\u001b[1;36m5\u001b[0m\u001b[1;33m]\u001b[0m\u001b[1;33m,\u001b[0m \u001b[1;36m2\u001b[0m\u001b[1;33m,\u001b[0m \u001b[0mname\u001b[0m\u001b[1;33m=\u001b[0m\u001b[1;34m\"HC\"\u001b[0m\u001b[1;33m)\u001b[0m\u001b[1;33m\u001b[0m\u001b[0m\n\u001b[0m\u001b[0;32m      9\u001b[0m \u001b[1;33m\u001b[0m\u001b[0m\n\u001b[0;32m     10\u001b[0m \u001b[1;33m\u001b[0m\u001b[0m\n",
      "\u001b[1;32mD:\\OneDrive\\workspace\\github\\Interview_Notes-Chinese\\code\\my_tensorflow\\src\\layers\\highway.py\u001b[0m in \u001b[0;36mmulti_highway_conv2d\u001b[1;34m(x, kernel_size, n_layer, act_fn, strides, padding, carry_bias, name)\u001b[0m\n\u001b[0;32m     92\u001b[0m         \u001b[0mkernel_size\u001b[0m \u001b[1;33m=\u001b[0m \u001b[1;33m[\u001b[0m\u001b[0mkernel_size\u001b[0m\u001b[1;33m]\u001b[0m \u001b[1;33m*\u001b[0m \u001b[0mn_layer\u001b[0m\u001b[1;33m\u001b[0m\u001b[0m\n\u001b[0;32m     93\u001b[0m \u001b[1;33m\u001b[0m\u001b[0m\n\u001b[1;32m---> 94\u001b[1;33m     \u001b[1;32massert\u001b[0m \u001b[0mlen\u001b[0m\u001b[1;33m(\u001b[0m\u001b[0mkernel_size\u001b[0m\u001b[1;33m)\u001b[0m \u001b[1;33m==\u001b[0m \u001b[0mn_layer\u001b[0m\u001b[1;33m\u001b[0m\u001b[0m\n\u001b[0m\u001b[0;32m     95\u001b[0m \u001b[1;33m\u001b[0m\u001b[0m\n\u001b[0;32m     96\u001b[0m     \u001b[0mname\u001b[0m \u001b[1;33m=\u001b[0m \u001b[0mname\u001b[0m \u001b[1;32mor\u001b[0m \u001b[1;34m\"highway_conv2d\"\u001b[0m\u001b[1;33m\u001b[0m\u001b[0m\n",
      "\u001b[1;31mAssertionError\u001b[0m: "
     ]
    }
   ],
   "source": [
    "# Multi Highway Conv2d\n",
    "tf.reset_default_graph()\n",
    "\n",
    "# Input shape: [4, 20, 20, 1]\n",
    "x = tf.constant(np.arange(1600, dtype=np.float32).reshape([-1, 20, 20, 1]))\n",
    "# Output shape: [4, 20, 20, 1]\n",
    "o = multi_highway_conv2d(x, 3, 2)\n",
    "o2 = multi_highway_conv2d(x, [3,4,5], 2, name=\"HC\")\n",
    "\n",
    "\n",
    "with tf.Session() as sess:\n",
    "    tf.global_variables_initializer().run()\n",
    "    o_val = o.eval()\n",
    "    o2_val = o2.eval()\n",
    "    \n",
    "print(o_val.shape)\n",
    "print(o2_val.shape)\n",
    "print_params_dict()\n",
    "print_params_number()"
   ]
  },
  {
   "cell_type": "code",
   "execution_count": null,
   "metadata": {
    "collapsed": true
   },
   "outputs": [],
   "source": []
  }
 ],
 "metadata": {
  "kernelspec": {
   "display_name": "Python 3",
   "language": "python",
   "name": "python3"
  }
 },
 "nbformat": 4,
 "nbformat_minor": 2
}

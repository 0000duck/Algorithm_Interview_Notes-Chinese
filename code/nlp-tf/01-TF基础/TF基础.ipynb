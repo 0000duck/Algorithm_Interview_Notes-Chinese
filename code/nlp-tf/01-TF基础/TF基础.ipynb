{
 "cells": [
  {
   "cell_type": "code",
   "execution_count": 1,
   "metadata": {},
   "outputs": [
    {
     "name": "stderr",
     "output_type": "stream",
     "text": [
      "D:\\program\\work\\Python\\Anaconda3\\envs\\tf\\lib\\site-packages\\h5py\\__init__.py:36: FutureWarning: Conversion of the second argument of issubdtype from `float` to `np.floating` is deprecated. In future, it will be treated as `np.float64 == np.dtype(float).type`.\n",
      "  from ._conv import register_converters as _register_converters\n"
     ]
    }
   ],
   "source": [
    "import tensorflow as tf\n",
    "import numpy as np\n",
    "import os\n",
    "import matplotlib.pyplot as plt\n",
    "# Config the matplotlib backend as plotting inline in IPython\n",
    "%matplotlib inline"
   ]
  },
  {
   "cell_type": "markdown",
   "metadata": {},
   "source": [
    "## 01-sigmoid_example"
   ]
  },
  {
   "cell_type": "code",
   "execution_count": 2,
   "metadata": {},
   "outputs": [
    {
     "name": "stdout",
     "output_type": "stream",
     "text": [
      "[[0.48915026 0.46442017 0.49814445 0.53225666 0.50935555]]\n"
     ]
    }
   ],
   "source": [
    "g = tf.Graph()\n",
    "with g.as_default():\n",
    "\n",
    "    # Input\n",
    "    x = tf.placeholder(shape=[1, 10], dtype=tf.float32, name='x')\n",
    "\n",
    "    # Variable\n",
    "    W = tf.Variable(tf.random_uniform(shape=[10, 5], minval=-0.1, maxval=0.1, dtype=tf.float32), name='W')\n",
    "    b = tf.Variable(tf.zeros(shape=[5], dtype=tf.float32), name='b')\n",
    "\n",
    "    # Sigmoid\n",
    "    h = tf.nn.sigmoid(tf.matmul(x, W) + b)\n",
    "\n",
    "with tf.Session(graph=g) as sess:\n",
    "    \"\"\"\"\"\"\n",
    "    # init\n",
    "    tf.global_variables_initializer().run()\n",
    "\n",
    "    h_eval = sess.run(h, feed_dict={x: np.random.rand(1, 10)})\n",
    "    print(h_eval)"
   ]
  }
 ],
 "metadata": {
  "kernelspec": {
   "display_name": "Python 3",
   "language": "python",
   "name": "python3"
  },
  "language_info": {
   "codemirror_mode": {
    "name": "ipython",
    "version": 3
   },
   "file_extension": ".py",
   "mimetype": "text/x-python",
   "name": "python",
   "nbconvert_exporter": "python",
   "pygments_lexer": "ipython3",
   "version": "3.6.1"
  }
 },
 "nbformat": 4,
 "nbformat_minor": 2
}
